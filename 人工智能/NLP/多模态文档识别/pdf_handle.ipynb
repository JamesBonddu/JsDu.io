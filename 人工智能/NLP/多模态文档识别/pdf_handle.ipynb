{
 "metadata": {
  "language_info": {
   "codemirror_mode": {
    "name": "ipython",
    "version": 3
   },
   "file_extension": ".py",
   "mimetype": "text/x-python",
   "name": "python",
   "nbconvert_exporter": "python",
   "pygments_lexer": "ipython3",
   "version": "3.7.6"
  },
  "orig_nbformat": 2,
  "kernelspec": {
   "name": "python376jvsc74a57bd0fe51acb14fb5a3e7fdf825e26e97e32fb192dc37b97c9776356565e3a06b4392",
   "display_name": "Python 3.7.6 64-bit"
  },
  "metadata": {
   "interpreter": {
    "hash": "fe51acb14fb5a3e7fdf825e26e97e32fb192dc37b97c9776356565e3a06b4392"
   }
  }
 },
 "nbformat": 4,
 "nbformat_minor": 2,
 "cells": [
  {
   "cell_type": "code",
   "execution_count": 2,
   "metadata": {},
   "outputs": [
    {
     "output_type": "error",
     "ename": "ModuleNotFoundError",
     "evalue": "No module named 'pdfplumber'",
     "traceback": [
      "\u001b[1;31m---------------------------------------------------------------------------\u001b[0m",
      "\u001b[1;31mModuleNotFoundError\u001b[0m                       Traceback (most recent call last)",
      "\u001b[1;32m<ipython-input-2-7496105922c8>\u001b[0m in \u001b[0;36m<module>\u001b[1;34m\u001b[0m\n\u001b[1;32m----> 1\u001b[1;33m \u001b[1;32mimport\u001b[0m \u001b[0mpdfplumber\u001b[0m\u001b[1;33m\u001b[0m\u001b[1;33m\u001b[0m\u001b[0m\n\u001b[0m\u001b[0;32m      2\u001b[0m \u001b[1;32mimport\u001b[0m \u001b[0mos\u001b[0m\u001b[1;33m,\u001b[0m \u001b[0msys\u001b[0m\u001b[1;33m\u001b[0m\u001b[1;33m\u001b[0m\u001b[0m\n\u001b[0;32m      3\u001b[0m \u001b[1;33m\u001b[0m\u001b[0m\n\u001b[0;32m      4\u001b[0m \u001b[0mpdf_pth\u001b[0m \u001b[1;33m=\u001b[0m \u001b[1;34m'./'\u001b[0m\u001b[1;33m\u001b[0m\u001b[1;33m\u001b[0m\u001b[0m\n\u001b[0;32m      5\u001b[0m \u001b[1;33m\u001b[0m\u001b[0m\n",
      "\u001b[1;31mModuleNotFoundError\u001b[0m: No module named 'pdfplumber'"
     ]
    }
   ],
   "source": [
    "import pdfplumber\n",
    "import os, sys\n",
    "\n",
    "pdf_pth = './'\n",
    "\n",
    "\n",
    "class PlumberTask:\n",
    "    def __init__(self, fpth):\n",
    "        self.fpth = fpth\n",
    "    \n",
    "    def get_page_objs(self):\n",
    "        with pdfplumber.open(self.fpth) as pdfobj:\n",
    "            print(pdfobj.pages)\n",
    "            for page in pdfobj.pages:\n",
    "                # objects\n",
    "                print(\"objects ==>\", page.objects)\n",
    "                print(\"chars ==>\", page.chars)\n",
    "                print(\"lines ==>\", page.lines)\n",
    "                print(\"rects ==>\", page.rects)\n",
    "                print(\"curves ==>\", page.curves)\n",
    "                print(\"images ==>\", page.images)\n",
    "\n",
    "                tbs = page.extract_table()\n",
    "                print(\"tbs ==>\", tbs)\n",
    "                page.to_image(resolution=150)\n",
    "\n",
    "\n",
    "for root, dir_names, fnames in os.walk(pdf_pth):\n",
    "    for fname in fnames:\n",
    "        if not fname.endswith(\"pdf\"):\n",
    "            continue\n",
    "        tmp_fpth = os.path.join(root, fname)\n",
    "        task = PlumberTask(tmp_fpth)\n",
    "        task.get_page_objs()\n",
    "        break"
   ]
  },
  {
   "cell_type": "code",
   "execution_count": null,
   "metadata": {},
   "outputs": [],
   "source": [
    "pip install pdfplumber"
   ]
  },
  {
   "cell_type": "code",
   "execution_count": null,
   "metadata": {},
   "outputs": [],
   "source": []
  }
 ]
}